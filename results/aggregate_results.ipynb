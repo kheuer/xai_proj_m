{
 "cells": [
  {
   "cell_type": "code",
   "execution_count": 1,
   "id": "2b1c4363",
   "metadata": {},
   "outputs": [],
   "source": [
    "import os\n",
    "import pandas as pd"
   ]
  },
  {
   "cell_type": "code",
   "execution_count": 2,
   "id": "760fb5e0",
   "metadata": {},
   "outputs": [],
   "source": [
    "builder = []\n",
    "for filename in (\n",
    "    \"results_camelyon_unbalanced.csv\",\n",
    "    \"results_camelyon.csv\",\n",
    "    \"results_pacs.csv\",\n",
    "):\n",
    "    _df = pd.read_csv(filename)\n",
    "    builder.append(_df)\n",
    "df = pd.concat(builder)"
   ]
  },
  {
   "cell_type": "code",
   "execution_count": 3,
   "id": "604e5e41",
   "metadata": {},
   "outputs": [],
   "source": [
    "df_grouped = df.groupby([\"dataset_name\", \"taget_domain\", \"architecture\", \"augmentations\"])[\n",
    "    [\"test_loss\", \"test_accuracy\", \"auc-score\", \"tp\", \"tn\", \"fp\", \"fn\"]\n",
    "].aggregate(\"mean\").reset_index()"
   ]
  },
  {
   "cell_type": "code",
   "execution_count": 4,
   "id": "671fbe51",
   "metadata": {},
   "outputs": [],
   "source": [
    "df_grouped.to_excel(\"all_augmentation_experiments.xlsx\")"
   ]
  }
 ],
 "metadata": {
  "kernelspec": {
   "display_name": "ds",
   "language": "python",
   "name": "python3"
  },
  "language_info": {
   "codemirror_mode": {
    "name": "ipython",
    "version": 3
   },
   "file_extension": ".py",
   "mimetype": "text/x-python",
   "name": "python",
   "nbconvert_exporter": "python",
   "pygments_lexer": "ipython3",
   "version": "3.10.16"
  }
 },
 "nbformat": 4,
 "nbformat_minor": 5
}
