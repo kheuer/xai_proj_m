{
 "cells": [
  {
   "metadata": {
    "ExecuteTime": {
     "end_time": "2025-07-13T05:47:42.187749Z",
     "start_time": "2025-07-13T05:47:42.184018Z"
    }
   },
   "cell_type": "code",
   "source": [
    "import itertools\n",
    "import os\n",
    "import optuna\n",
    "from optuna.exceptions import ExperimentalWarning\n",
    "from optuna.visualization.matplotlib import plot_contour\n",
    "from optuna.visualization.matplotlib import plot_edf\n",
    "from optuna.visualization.matplotlib import plot_intermediate_values\n",
    "from optuna.visualization.matplotlib import plot_optimization_history\n",
    "from optuna.visualization.matplotlib import plot_parallel_coordinate\n",
    "from optuna.visualization.matplotlib import plot_param_importances\n",
    "from optuna.visualization.matplotlib import plot_rank\n",
    "from optuna.visualization.matplotlib import plot_slice\n",
    "from optuna.visualization.matplotlib import plot_timeline\n",
    "import matplotlib.pyplot as plt\n",
    "import itertools\n",
    "import warnings\n",
    "\n"
   ],
   "id": "3008c7b82df98cc0",
   "outputs": [],
   "execution_count": 3
  },
  {
   "cell_type": "code",
   "id": "initial_id",
   "metadata": {
    "collapsed": true,
    "ExecuteTime": {
     "end_time": "2025-07-13T05:47:43.586822Z",
     "start_time": "2025-07-13T05:47:43.581957Z"
    }
   },
   "source": [
    "def plot_study(study):\n",
    "\n",
    "    params = list(study.best_params.keys())\n",
    "\n",
    "    with warnings.catch_warnings():\n",
    "        warnings.simplefilter(\"ignore\", category=ExperimentalWarning)\n",
    "        plot_optimization_history(study)\n",
    "        plt.show()\n",
    "\n",
    "    # if study.best_trial.intermediate_values.values():\n",
    "    #     plot_intermediate_values(study)\n",
    "    #     plt.show()\n",
    "    #\n",
    "    # with warnings.catch_warnings():\n",
    "    #     warnings.simplefilter(\"ignore\", category=ExperimentalWarning)\n",
    "    #     plot_parallel_coordinate(study)\n",
    "    #     plt.show()\n",
    "    #\n",
    "    # with (warnings.catch_warnings()):\n",
    "    #     warnings.simplefilter(\"ignore\", category=ExperimentalWarning)\n",
    "    #     combinations = [list(c) for c in itertools.combinations(params, 2)]\n",
    "    #     print(len(combinations))\n",
    "    #     step_size = 2\n",
    "    #     for i in range(0, len(params), step_size):\n",
    "    #         plot_contour(study, params=params[i:i+step_size])\n",
    "    #         plt.show()\n",
    "\n",
    "    with warnings.catch_warnings():\n",
    "        warnings.simplefilter(\"ignore\", category=ExperimentalWarning)\n",
    "        # for param in params:\n",
    "        #     plot_slice(study, params=[param])\n",
    "        #     plt.show()\n"
   ],
   "outputs": [],
   "execution_count": 4
  },
  {
   "metadata": {
    "ExecuteTime": {
     "end_time": "2025-07-13T05:47:44.920520Z",
     "start_time": "2025-07-13T05:47:44.066783Z"
    }
   },
   "cell_type": "code",
   "source": [
    "study_dir = \"trials\"\n",
    "study_files = [os.path.join(study_dir, file) for file in os.listdir(study_dir) if file.endswith(\".db\")]\n",
    "best_trials_numbers = []\n",
    "best_values = []\n",
    "for study_file in study_files:\n",
    "    storage_uri = f\"sqlite:///{study_file}\"\n",
    "    storage = optuna.storages.RDBStorage(storage_uri)\n",
    "    study_name = storage.get_all_studies()[0].study_name\n",
    "    study = optuna.load_study(study_name=study_name, storage=storage)\n",
    "    if len(study.best_trial.intermediate_values.values()) > 0:\n",
    "        print(study.study_name)\n",
    "    best_trials_numbers.append(study.best_trial.number)\n",
    "    best_values.append((study_name, study.best_value, best_trials_numbers[-1]))\n",
    "\n",
    "print(sorted([pair for pair in best_values], key=lambda x: x[1]))\n",
    "\n"
   ],
   "id": "68ebe66e7ff6a470",
   "outputs": [
    {
     "name": "stdout",
     "output_type": "stream",
     "text": [
      "[('STUDY_ResNet18_0_pretrained_True_transformations_True_2025-07-08_13:01:11', 0.06988470006035641, 92), ('STUDY_ResNet18_0_pretrained_False_transformations_True_2025-07-09_21:32:13', 0.0711077221785672, 91), ('STUDY_ResNet18_0_pretrained_False_transformations_False_2025-07-07_20:30:16', 0.07806632213760167, 21), ('STUDY_ResNet18_0_pretrained_True_transformations_False_2025-07-06_15:23:55', 0.09095924987923354, 88), ('STUDY_ResNet18_1_pretrained_True_transformations_True_2025-07-08_20:58:46', 0.12386911199428141, 68), ('STUDY_ResNet18_1_pretrained_False_transformations_False_2025-07-07_23:06:31', 0.1452832967042923, 81), ('STUDY_ResNet18_1_pretrained_False_transformations_True_2025-07-10_05:56:52', 0.15312978997826576, 0), ('STUDY_ResNet18_1_pretrained_True_transformations_False_2025-07-07_08:22:07', 0.15408412204124033, 38), ('STUDY_ResNet18_3_pretrained_True_transformations_True_2025-07-09_10:21:42', 0.20820948807522655, 89), ('STUDY_ResNet18_3_pretrained_False_transformations_False_2025-07-08_03:41:50', 0.253402944188565, 51), ('STUDY_ResNet18_3_pretrained_True_transformations_False_2025-07-07_18:09:42', 0.27541077276691794, 6), ('STUDY_ResNet18_2_pretrained_True_transformations_False_2025-07-07_12:42:01', 0.5258762333542109, 90), ('STUDY_ResNet18_2_pretrained_False_transformations_False_2025-07-08_01:33:03', 0.5330962724983692, 92), ('STUDY_ResNet18_2_pretrained_True_transformations_True_2025-07-09_04:59:13', 0.5352609027177095, 17), ('STUDY_ResNet18_2_pretrained_False_transformations_True_2025-07-11_21:46:55', 0.5398530103266239, 0), ('STUDY_ResNet18_2_pretrained_False_transformations_True_2025-07-11_07:46:55', 0.6189257614314556, 47)]\n"
     ]
    }
   ],
   "execution_count": 5
  },
  {
   "metadata": {},
   "cell_type": "code",
   "outputs": [],
   "execution_count": null,
   "source": "",
   "id": "3f78d7fcb6d5380c"
  }
 ],
 "metadata": {
  "kernelspec": {
   "display_name": "Python 3",
   "language": "python",
   "name": "python3"
  },
  "language_info": {
   "codemirror_mode": {
    "name": "ipython",
    "version": 2
   },
   "file_extension": ".py",
   "mimetype": "text/x-python",
   "name": "python",
   "nbconvert_exporter": "python",
   "pygments_lexer": "ipython2",
   "version": "2.7.6"
  }
 },
 "nbformat": 4,
 "nbformat_minor": 5
}
